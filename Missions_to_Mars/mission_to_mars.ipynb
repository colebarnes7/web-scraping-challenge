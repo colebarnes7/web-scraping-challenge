{
 "cells": [
  {
   "cell_type": "code",
   "execution_count": 1,
   "id": "320247ba",
   "metadata": {},
   "outputs": [],
   "source": [
    "# Import packages and dependencies\n",
    "from splinter import Browser\n",
    "import time\n",
    "from bs4 import BeautifulSoup\n",
    "import pandas as pd\n",
    "from webdriver_manager.chrome import ChromeDriverManager"
   ]
  },
  {
   "cell_type": "code",
   "execution_count": 11,
   "id": "31168d9c",
   "metadata": {},
   "outputs": [
    {
     "name": "stderr",
     "output_type": "stream",
     "text": [
      "\n",
      "\n",
      "====== WebDriver manager ======\n",
      "Current google-chrome version is 101.0.4951\n",
      "Get LATEST chromedriver version for 101.0.4951 google-chrome\n",
      "Driver [C:\\Users\\Cole Barnes\\.wdm\\drivers\\chromedriver\\win32\\101.0.4951.41\\chromedriver.exe] found in cache\n"
     ]
    }
   ],
   "source": [
    "# Setup Splinter\n",
    "executable_path = {'executable_path': ChromeDriverManager().install()}\n",
    "browser = Browser('chrome', **executable_path, headless=False)\n",
    "\n",
    "# URL to scrape\n",
    "url = \"https://redplanetscience.com/\"\n",
    "\n",
    "# Call visit on our browser and pass in the URL we want to scrape   \n",
    "browser.visit(url)\n",
    "\n",
    "# Let it sleep for 1 second\n",
    "time.sleep(1)\n",
    "\n",
    "# Return all the HTML on our page\n",
    "html = browser.html\n",
    "    \n",
    "# Create a Beautiful Soup object, pass in our HTML, and call 'html.parser'\n",
    "soup = BeautifulSoup(html, \"html.parser\")"
   ]
  },
  {
   "cell_type": "code",
   "execution_count": 14,
   "id": "693e88d4",
   "metadata": {},
   "outputs": [
    {
     "data": {
      "text/plain": [
       "\"The bit carousel, which lies at the heart of the rover's Sample Caching System, is now aboard NASA's newest rover. \""
      ]
     },
     "execution_count": 14,
     "metadata": {},
     "output_type": "execute_result"
    }
   ],
   "source": [
    "# Stores latest news title and paragraph teaser\n",
    "news_title = soup.find(\"div\", class_=\"content_title\").get_text()\n",
    "news_p = soup.find(\"div\", class_=\"article_teaser_body\").get_text()"
   ]
  },
  {
   "cell_type": "code",
   "execution_count": 16,
   "id": "fcc1402a",
   "metadata": {},
   "outputs": [
    {
     "name": "stderr",
     "output_type": "stream",
     "text": [
      "\n",
      "\n",
      "====== WebDriver manager ======\n",
      "Current google-chrome version is 101.0.4951\n",
      "Get LATEST chromedriver version for 101.0.4951 google-chrome\n",
      "Driver [C:\\Users\\Cole Barnes\\.wdm\\drivers\\chromedriver\\win32\\101.0.4951.41\\chromedriver.exe] found in cache\n"
     ]
    }
   ],
   "source": [
    "# Setup Splinter\n",
    "executable_path = {'executable_path': ChromeDriverManager().install()}\n",
    "browser = Browser('chrome', **executable_path, headless=False)\n",
    "\n",
    "# URL to scrape\n",
    "url = \"https://spaceimages-mars.com/\"\n",
    "\n",
    "# Call visit on our browser and pass in the URL we want to scrape   \n",
    "browser.visit(url)\n",
    "\n",
    "# Let it sleep for 1 second\n",
    "time.sleep(1)\n",
    "\n",
    "# Return all the HTML on our page\n",
    "html = browser.html\n",
    "    \n",
    "# Create a Beautiful Soup object, pass in our HTML, and call 'html.parser'\n",
    "soup = BeautifulSoup(html, \"html.parser\")"
   ]
  },
  {
   "cell_type": "code",
   "execution_count": 41,
   "id": "1c173411",
   "metadata": {},
   "outputs": [
    {
     "data": {
      "text/plain": [
       "'https://spaceimages-mars.com/image/featured/mars2.jpg'"
      ]
     },
     "execution_count": 41,
     "metadata": {},
     "output_type": "execute_result"
    }
   ],
   "source": [
    "temp = soup.find_all(\"img\", class_=\"headerimage fade-in\")\n",
    "featured_image_url = url + temp[0]['src']"
   ]
  },
  {
   "cell_type": "code",
   "execution_count": null,
   "id": "b8bde914",
   "metadata": {},
   "outputs": [],
   "source": []
  }
 ],
 "metadata": {
  "kernelspec": {
   "display_name": "Python [conda env:PythonData38] *",
   "language": "python",
   "name": "conda-env-PythonData38-py"
  },
  "language_info": {
   "codemirror_mode": {
    "name": "ipython",
    "version": 3
   },
   "file_extension": ".py",
   "mimetype": "text/x-python",
   "name": "python",
   "nbconvert_exporter": "python",
   "pygments_lexer": "ipython3",
   "version": "3.8.12"
  }
 },
 "nbformat": 4,
 "nbformat_minor": 5
}
