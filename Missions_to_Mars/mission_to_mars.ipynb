{
 "cells": [
  {
   "cell_type": "code",
   "execution_count": null,
   "id": "b81d14e5",
   "metadata": {},
   "outputs": [],
   "source": [
    "# Import packages and dependencies\n",
    "from splinter import Browser\n",
    "import time\n",
    "from bs4 import BeautifulSoup\n",
    "import pandas as pd\n",
    "from webdriver_manager.chrome import ChromeDriverManager"
   ]
  },
  {
   "cell_type": "code",
   "execution_count": null,
   "id": "18d8887a",
   "metadata": {},
   "outputs": [],
   "source": [
    "# Setup Splinter\n",
    "executable_path = {'executable_path': ChromeDriverManager().install()}\n",
    "browser = Browser('chrome', **executable_path, headless=False)\n",
    "\n",
    "# URL to scrape\n",
    "url = \"https://redplanetscience.com/\"\n",
    "\n",
    "# Call visit on our browser and pass in the URL we want to scrape   \n",
    "browser.visit(url)\n",
    "\n",
    "# Let it sleep for 1 second\n",
    "time.sleep(1)\n",
    "\n",
    "# Return all the HTML on our page\n",
    "html = browser.html\n",
    "    \n",
    "# Create a Beautiful Soup object, pass in our HTML, and call 'html.parser'\n",
    "soup = BeautifulSoup(html, \"html.parser\")"
   ]
  },
  {
   "cell_type": "code",
   "execution_count": null,
   "id": "b8d6fae0",
   "metadata": {},
   "outputs": [],
   "source": [
    "# Quit the browser\n",
    "browser.quit()"
   ]
  },
  {
   "cell_type": "code",
   "execution_count": null,
   "id": "57910698",
   "metadata": {},
   "outputs": [],
   "source": [
    "# Stores latest news title and paragraph teaser\n",
    "news_title = soup.find(\"div\", class_=\"content_title\").get_text()\n",
    "news_p = soup.find(\"div\", class_=\"article_teaser_body\").get_text()"
   ]
  },
  {
   "cell_type": "code",
   "execution_count": null,
   "id": "2fc97d6b",
   "metadata": {},
   "outputs": [],
   "source": [
    "# Setup Splinter\n",
    "executable_path = {'executable_path': ChromeDriverManager().install()}\n",
    "browser = Browser('chrome', **executable_path, headless=False)\n",
    "\n",
    "# URL to scrape\n",
    "url = \"https://spaceimages-mars.com/\"\n",
    "\n",
    "# Call visit on our browser and pass in the URL we want to scrape   \n",
    "browser.visit(url)\n",
    "\n",
    "# Let it sleep for 1 second\n",
    "time.sleep(1)\n",
    "\n",
    "# Return all the HTML on our page\n",
    "html = browser.html\n",
    "    \n",
    "# Create a Beautiful Soup object, pass in our HTML, and call 'html.parser'\n",
    "soup = BeautifulSoup(html, \"html.parser\")"
   ]
  },
  {
   "cell_type": "code",
   "execution_count": null,
   "id": "98c3521d",
   "metadata": {},
   "outputs": [],
   "source": [
    "# Quit the browser\n",
    "browser.quit()"
   ]
  },
  {
   "cell_type": "code",
   "execution_count": null,
   "id": "466ee6e2",
   "metadata": {},
   "outputs": [],
   "source": [
    "temp = soup.find_all(\"img\", class_=\"headerimage fade-in\")\n",
    "featured_image_url = url + temp[0]['src']\n",
    "featured_image_url"
   ]
  },
  {
   "cell_type": "code",
   "execution_count": null,
   "id": "d1288b2a",
   "metadata": {},
   "outputs": [],
   "source": [
    "# URL to scrape\n",
    "url = \"https://galaxyfacts-mars.com/\"\n",
    "\n",
    "# Scrapes all tabular data off the url\n",
    "tables = pd.read_html(url)\n",
    "\n",
    "# Pulls just the first table out\n",
    "df = tables[0]\n",
    "df"
   ]
  },
  {
   "cell_type": "code",
   "execution_count": null,
   "id": "917fb185",
   "metadata": {},
   "outputs": [],
   "source": [
    "# Sets appropriate header for each column\n",
    "df.columns = df.iloc[0] \n",
    "df = df[1:]\n",
    "df"
   ]
  },
  {
   "cell_type": "code",
   "execution_count": null,
   "id": "55ba8a12",
   "metadata": {},
   "outputs": [],
   "source": [
    "# Sets up the index for the dataframe\n",
    "df = df.set_index('Mars - Earth Comparison')\n",
    "df"
   ]
  },
  {
   "cell_type": "code",
   "execution_count": null,
   "id": "9aff72df",
   "metadata": {},
   "outputs": [],
   "source": [
    "# Saves table into html file\n",
    "df.to_html('table.html')"
   ]
  },
  {
   "cell_type": "code",
   "execution_count": null,
   "id": "71127bcd",
   "metadata": {},
   "outputs": [],
   "source": [
    "# Setup Splinter\n",
    "executable_path = {'executable_path': ChromeDriverManager().install()}\n",
    "browser = Browser('chrome', **executable_path, headless=False)\n",
    "\n",
    "# URL to scrape\n",
    "url = \"https://marshemispheres.com/\"\n",
    "\n",
    "# Call visit on our browser and pass in the URL we want to scrape   \n",
    "browser.visit(url)\n",
    "\n",
    "# Let it sleep for 1 second\n",
    "time.sleep(1)\n",
    "\n",
    "# Set up lists to put inside the dictionary\n",
    "title = []\n",
    "img_url = []\n",
    "\n",
    "# Return all the HTML on our page\n",
    "html = browser.html\n",
    "    \n",
    "# Create a Beautiful Soup object, pass in our HTML, and call 'html.parser'\n",
    "soup = BeautifulSoup(html, \"html.parser\")\n",
    "\n",
    "# Stores each instance of the div tag with class description as a item of a list\n",
    "queries = soup.find_all('div', class_=\"description\")\n",
    "\n",
    "# Loops through each item in the queries list\n",
    "for query in queries:\n",
    "    \n",
    "    # Finds each title to store and use in the splinter clicker\n",
    "    temp_title = query.find(\"h3\").get_text()\n",
    "    new_title = temp_title.replace(\" Enhanced\", \"\")\n",
    "    title.append(new_title)\n",
    "    \n",
    "    # Clicks the link using the title we just grabbed\n",
    "    browser.find_by_css(\"h3\").links.find_by_partial_text(new_title).click()\n",
    "    \n",
    "    # Return all the HTML on our page\n",
    "    html = browser.html\n",
    "    \n",
    "    # Create a Beautiful Soup object, pass in our HTML, and call 'html.parser'\n",
    "    soup = BeautifulSoup(html, \"html.parser\")\n",
    "    \n",
    "    # Stores our image url\n",
    "    temp_img_url = soup.find_all(\"img\", class_=\"wide-image\")\n",
    "    new_imp_url = url + temp_img_url[0]['src']\n",
    "    img_url.append(new_imp_url)\n",
    "    \n",
    "    # Goes back to the main page\n",
    "    browser.back()\n",
    "    \n",
    "    # Return all the HTML on our page\n",
    "    html = browser.html\n",
    "    \n",
    "    # Create a Beautiful Soup object, pass in our HTML, and call 'html.parser'\n",
    "    soup = BeautifulSoup(html, \"html.parser\")\n"
   ]
  },
  {
   "cell_type": "code",
   "execution_count": null,
   "id": "46425182",
   "metadata": {},
   "outputs": [],
   "source": [
    "# Quit the browser\n",
    "browser.quit()"
   ]
  },
  {
   "cell_type": "code",
   "execution_count": null,
   "id": "f5f7b39f",
   "metadata": {},
   "outputs": [],
   "source": [
    "# Sets up list to hold our data\n",
    "hemisphere_image_urls = []\n",
    "\n",
    "# Creates a dictionary for each Hemisphere\n",
    "for x in range(0,4):\n",
    "    dict = {\"title\": title[x], \"img_url\": img_url[x]}\n",
    "    hemisphere_image_urls.append(dict)\n",
    "               "
   ]
  },
  {
   "cell_type": "code",
   "execution_count": null,
   "id": "e24541d6",
   "metadata": {},
   "outputs": [],
   "source": []
  }
 ],
 "metadata": {
  "kernelspec": {
   "display_name": "Python [conda env:PythonData38] *",
   "language": "python",
   "name": "conda-env-PythonData38-py"
  },
  "language_info": {
   "codemirror_mode": {
    "name": "ipython",
    "version": 3
   },
   "file_extension": ".py",
   "mimetype": "text/x-python",
   "name": "python",
   "nbconvert_exporter": "python",
   "pygments_lexer": "ipython3",
   "version": "3.8.12"
  }
 },
 "nbformat": 4,
 "nbformat_minor": 5
}
